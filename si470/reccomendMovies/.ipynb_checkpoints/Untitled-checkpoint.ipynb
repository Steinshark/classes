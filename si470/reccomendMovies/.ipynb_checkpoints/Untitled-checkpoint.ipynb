{
 "cells": [
  {
   "cell_type": "code",
   "execution_count": 2,
   "id": "48adb247",
   "metadata": {},
   "outputs": [],
   "source": [
    "import pandas as pd\n",
    "import numpy as np"
   ]
  },
  {
   "cell_type": "code",
   "execution_count": 12,
   "id": "29922723",
   "metadata": {},
   "outputs": [],
   "source": [
    "#init all of the filenames and dataframes\n",
    "datasets = {    'small'     :  {'movies' : \"ml-latest-small/movies.csv\" , 'ratings' : \"ml-latest-small/ratings.csv\" , 'tags' : \"ml-latest-small/tags.csv\"},\n",
    "                'large'     :  {'movies' : \"ml-latest/movies.csv\"       , 'ratings' : \"ml-latest/ratings.csv\"       , 'tags' : \"ml-latest/tags.csv\"}}\n",
    "dataframes= {   'small'     :  {'final'  : None, 'movies' : None, 'ratings' :  None, 'tags' : None},\n",
    "                'large'     :  {'final'  : None, 'movies' : None, 'ratings' :  None, 'tags' : None}}"
   ]
  },
  {
   "cell_type": "code",
   "execution_count": 16,
   "id": "59bd2ede",
   "metadata": {},
   "outputs": [
    {
     "ename": "AttributeError",
     "evalue": "'NoneType' object has no attribute 'pivot'",
     "output_type": "error",
     "traceback": [
      "\u001b[0;31m---------------------------------------------------------------------------\u001b[0m",
      "\u001b[0;31mAttributeError\u001b[0m                            Traceback (most recent call last)",
      "\u001b[0;32m/tmp/user/495004487/ipykernel_257579/2474332500.py\u001b[0m in \u001b[0;36m<module>\u001b[0;34m\u001b[0m\n\u001b[1;32m      7\u001b[0m             \u001b[0mdataframes\u001b[0m\u001b[0;34m[\u001b[0m\u001b[0msize\u001b[0m\u001b[0;34m]\u001b[0m\u001b[0;34m[\u001b[0m\u001b[0mtype\u001b[0m\u001b[0;34m]\u001b[0m \u001b[0;34m=\u001b[0m \u001b[0mpd\u001b[0m\u001b[0;34m.\u001b[0m\u001b[0mread_csv\u001b[0m\u001b[0;34m(\u001b[0m\u001b[0mdatasets\u001b[0m\u001b[0;34m[\u001b[0m\u001b[0msize\u001b[0m\u001b[0;34m]\u001b[0m\u001b[0;34m[\u001b[0m\u001b[0mtype\u001b[0m\u001b[0;34m]\u001b[0m\u001b[0;34m,\u001b[0m\u001b[0msep\u001b[0m\u001b[0;34m=\u001b[0m\u001b[0;34m','\u001b[0m\u001b[0;34m)\u001b[0m\u001b[0;34m\u001b[0m\u001b[0;34m\u001b[0m\u001b[0m\n\u001b[1;32m      8\u001b[0m \u001b[0;32mfor\u001b[0m \u001b[0msize\u001b[0m \u001b[0;32min\u001b[0m \u001b[0mdataframes\u001b[0m\u001b[0;34m:\u001b[0m\u001b[0;34m\u001b[0m\u001b[0;34m\u001b[0m\u001b[0m\n\u001b[0;32m----> 9\u001b[0;31m     \u001b[0mdataframes\u001b[0m\u001b[0;34m[\u001b[0m\u001b[0msize\u001b[0m\u001b[0;34m]\u001b[0m\u001b[0;34m[\u001b[0m\u001b[0;34m'final'\u001b[0m\u001b[0;34m]\u001b[0m\u001b[0;34m.\u001b[0m\u001b[0mpivot\u001b[0m\u001b[0;34m(\u001b[0m\u001b[0mindex\u001b[0m\u001b[0;34m=\u001b[0m\u001b[0;34m'userId'\u001b[0m\u001b[0;34m,\u001b[0m\u001b[0mcolumns\u001b[0m\u001b[0;34m=\u001b[0m\u001b[0;34m'movieId'\u001b[0m\u001b[0;34m)\u001b[0m\u001b[0;34m\u001b[0m\u001b[0;34m\u001b[0m\u001b[0m\n\u001b[0m",
      "\u001b[0;31mAttributeError\u001b[0m: 'NoneType' object has no attribute 'pivot'"
     ]
    }
   ],
   "source": [
    "# read in the datasets\n",
    "# ASSUMPTION TO BE MADE HERE: how do we fill the na?\n",
    "# We chose 0\n",
    "for size in dataframes:\n",
    "    for type in dataframes[size]:\n",
    "        if not type == 'final':\n",
    "            dataframes[size][type] = pd.read_csv(datasets[size][type],sep=',')\n",
    "for size in dataframes:\n",
    "    dataframes[size]['final'] = dataframes[size]['ratings'].pivot(index='userId',columns='movieId')\n"
   ]
  },
  {
   "cell_type": "code",
   "execution_count": 10,
   "id": "4015fd94",
   "metadata": {},
   "outputs": [
    {
     "name": "stdout",
     "output_type": "stream",
     "text": [
      "        rating                                                                 \\\n",
      "movieId 1      2      3      4      5      6      7      8      9      10       \n",
      "userId                                                                          \n",
      "1          4.0    NaN    4.0    NaN    NaN    4.0    NaN    NaN    NaN    NaN   \n",
      "2          NaN    NaN    NaN    NaN    NaN    NaN    NaN    NaN    NaN    NaN   \n",
      "3          NaN    NaN    NaN    NaN    NaN    NaN    NaN    NaN    NaN    NaN   \n",
      "4          NaN    NaN    NaN    NaN    NaN    NaN    NaN    NaN    NaN    NaN   \n",
      "5          4.0    NaN    NaN    NaN    NaN    NaN    NaN    NaN    NaN    NaN   \n",
      "...        ...    ...    ...    ...    ...    ...    ...    ...    ...    ...   \n",
      "606        2.5    NaN    NaN    NaN    NaN    NaN    2.5    NaN    NaN    NaN   \n",
      "607        4.0    NaN    NaN    NaN    NaN    NaN    NaN    NaN    NaN    NaN   \n",
      "608        2.5    2.0    2.0    NaN    NaN    NaN    NaN    NaN    NaN    4.0   \n",
      "609        3.0    NaN    NaN    NaN    NaN    NaN    NaN    NaN    NaN    4.0   \n",
      "610        5.0    NaN    NaN    NaN    NaN    5.0    NaN    NaN    NaN    NaN   \n",
      "\n",
      "         ... timestamp                                                   \\\n",
      "movieId  ...    193565 193567 193571 193573 193579 193581 193583 193585   \n",
      "userId   ...                                                              \n",
      "1        ...       NaN    NaN    NaN    NaN    NaN    NaN    NaN    NaN   \n",
      "2        ...       NaN    NaN    NaN    NaN    NaN    NaN    NaN    NaN   \n",
      "3        ...       NaN    NaN    NaN    NaN    NaN    NaN    NaN    NaN   \n",
      "4        ...       NaN    NaN    NaN    NaN    NaN    NaN    NaN    NaN   \n",
      "5        ...       NaN    NaN    NaN    NaN    NaN    NaN    NaN    NaN   \n",
      "...      ...       ...    ...    ...    ...    ...    ...    ...    ...   \n",
      "606      ...       NaN    NaN    NaN    NaN    NaN    NaN    NaN    NaN   \n",
      "607      ...       NaN    NaN    NaN    NaN    NaN    NaN    NaN    NaN   \n",
      "608      ...       NaN    NaN    NaN    NaN    NaN    NaN    NaN    NaN   \n",
      "609      ...       NaN    NaN    NaN    NaN    NaN    NaN    NaN    NaN   \n",
      "610      ...       NaN    NaN    NaN    NaN    NaN    NaN    NaN    NaN   \n",
      "\n",
      "                       \n",
      "movieId 193587 193609  \n",
      "userId                 \n",
      "1          NaN    NaN  \n",
      "2          NaN    NaN  \n",
      "3          NaN    NaN  \n",
      "4          NaN    NaN  \n",
      "5          NaN    NaN  \n",
      "...        ...    ...  \n",
      "606        NaN    NaN  \n",
      "607        NaN    NaN  \n",
      "608        NaN    NaN  \n",
      "609        NaN    NaN  \n",
      "610        NaN    NaN  \n",
      "\n",
      "[610 rows x 19448 columns]\n"
     ]
    }
   ],
   "source": []
  },
  {
   "cell_type": "code",
   "execution_count": null,
   "id": "aa766f31",
   "metadata": {},
   "outputs": [],
   "source": []
  }
 ],
 "metadata": {
  "kernelspec": {
   "display_name": "Python 3 (ipykernel)",
   "language": "python",
   "name": "python3"
  },
  "language_info": {
   "codemirror_mode": {
    "name": "ipython",
    "version": 3
   },
   "file_extension": ".py",
   "mimetype": "text/x-python",
   "name": "python",
   "nbconvert_exporter": "python",
   "pygments_lexer": "ipython3",
   "version": "3.9.7"
  }
 },
 "nbformat": 4,
 "nbformat_minor": 5
}
